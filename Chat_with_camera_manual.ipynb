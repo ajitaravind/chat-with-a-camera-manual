{
  "cells": [
    {
      "cell_type": "markdown",
      "metadata": {
        "id": "JwudoASPftZl"
      },
      "source": [
        "# In the notebook, we will build an application to chat with a Nikon Z8 camera manual. This could be used for any pdf documents (car manual, phone manual, you name it.), just replace the manuals with your own files."
      ]
    },
    {
      "cell_type": "markdown",
      "metadata": {
        "id": "dDiLYwbifyBE"
      },
      "source": [
        "Let's install all necessary packages"
      ]
    },
    {
      "cell_type": "code",
      "execution_count": 2,
      "metadata": {
        "id": "Ot9mrYHkZ2lz"
      },
      "outputs": [],
      "source": [
        "%%capture\n",
        "pip install langchain langchain_community langchain_core langchain_groq langchain_nomic chromadb"
      ]
    },
    {
      "cell_type": "markdown",
      "metadata": {
        "id": "MPl91HmcgVKI"
      },
      "source": [
        "Read the api keys from 'Secrets'"
      ]
    },
    {
      "cell_type": "code",
      "execution_count": 3,
      "metadata": {
        "id": "1qIyRI_NbCI0"
      },
      "outputs": [],
      "source": [
        "import os\n",
        "from google.colab import userdata\n",
        "\n",
        "os.environ[\"NOMIC_API_KEY\"] = userdata.get('NOMIC_API_KEY')\n",
        "os.environ[\"GROQ_API_KEY\"] = userdata.get('GROQ_API_KEY')"
      ]
    },
    {
      "cell_type": "markdown",
      "metadata": {
        "id": "3fMVR0CEgd-o"
      },
      "source": [
        "Import all the necessary packages from langchain. We will use the excellent embedding function from Nomic and for vector store, we will use Chroma. PyPDF is our pdf loader"
      ]
    },
    {
      "cell_type": "code",
      "execution_count": 4,
      "metadata": {
        "id": "JWxW3hO2bq0g"
      },
      "outputs": [],
      "source": [
        "from langchain_community.document_loaders import PyPDFLoader\n",
        "\n",
        "from langchain.text_splitter import RecursiveCharacterTextSplitter\n",
        "from langchain.vectorstores import Chroma\n",
        "from langchain_nomic.embeddings import NomicEmbeddings"
      ]
    },
    {
      "cell_type": "code",
      "execution_count": 5,
      "metadata": {
        "id": "fX0p0xRAb2ub"
      },
      "outputs": [],
      "source": [
        "embeddings = NomicEmbeddings(model=\"nomic-embed-text-v1.5\")"
      ]
    },
    {
      "cell_type": "code",
      "execution_count": 8,
      "metadata": {
        "id": "8vKOhMz9ciKe"
      },
      "outputs": [],
      "source": [
        "%%capture\n",
        "pip install pypdf"
      ]
    },
    {
      "cell_type": "markdown",
      "metadata": {
        "id": "yzzTFvaJg0My"
      },
      "source": [
        "Loading and splitting documents to store into our Vector database."
      ]
    },
    {
      "cell_type": "code",
      "execution_count": 9,
      "metadata": {
        "id": "B1wKF8Bdb6N_"
      },
      "outputs": [],
      "source": [
        "loaders = [PyPDFLoader(\"Z9Z8_TG_Wildlife_(En)01.pdf\"),\n",
        "           PyPDFLoader(\"Z8UMEUR_(En)03.pdf\")]"
      ]
    },
    {
      "cell_type": "code",
      "execution_count": 10,
      "metadata": {
        "id": "uu1myEI6ceHL"
      },
      "outputs": [],
      "source": [
        "text_splitter = RecursiveCharacterTextSplitter(\n",
        "    chunk_size=1024,\n",
        "    chunk_overlap=200\n",
        "    )\n",
        "docs = []\n",
        "for loader in loaders:\n",
        "        docs.extend(loader.load())\n",
        "model_splits = text_splitter.split_documents(docs)"
      ]
    },
    {
      "cell_type": "markdown",
      "metadata": {
        "id": "y8LZtyVEg5RQ"
      },
      "source": [
        "We got 156 chunks that get loaded to Chroma DB"
      ]
    },
    {
      "cell_type": "code",
      "execution_count": 11,
      "metadata": {
        "colab": {
          "base_uri": "https://localhost:8080/"
        },
        "id": "8IAcIQLJdFpA",
        "outputId": "ebe42d9a-4493-4c92-da3d-7eebb553a548"
      },
      "outputs": [
        {
          "data": {
            "text/plain": [
              "156"
            ]
          },
          "execution_count": 11,
          "metadata": {},
          "output_type": "execute_result"
        }
      ],
      "source": [
        "len(model_splits)"
      ]
    },
    {
      "cell_type": "code",
      "execution_count": 12,
      "metadata": {
        "id": "mpUJmBWndJaJ"
      },
      "outputs": [],
      "source": [
        "vectorstore = Chroma.from_documents(model_splits, embeddings,persist_directory = \"mydb\")"
      ]
    },
    {
      "cell_type": "code",
      "execution_count": 13,
      "metadata": {
        "id": "7TfL-tH6dU0i"
      },
      "outputs": [],
      "source": [
        "retriever = vectorstore .as_retriever(search_type = \"similarity\")"
      ]
    },
    {
      "cell_type": "markdown",
      "metadata": {
        "id": "npHDOkwGhBYp"
      },
      "source": [
        "Let's test our retriever to see if it's working fine"
      ]
    },
    {
      "cell_type": "code",
      "execution_count": 14,
      "metadata": {
        "colab": {
          "base_uri": "https://localhost:8080/"
        },
        "id": "58Bw2D8Edosj",
        "outputId": "4aa95f2f-2f1e-4679-b621-ed6ea8d9a8e4"
      },
      "outputs": [
        {
          "name": "stderr",
          "output_type": "stream",
          "text": [
            "/usr/local/lib/python3.10/dist-packages/langchain_core/_api/deprecation.py:119: LangChainDeprecationWarning: The method `BaseRetriever.get_relevant_documents` was deprecated in langchain-core 0.1.46 and will be removed in 0.3.0. Use invoke instead.\n",
            "  warn_deprecated(\n"
          ]
        },
        {
          "data": {
            "text/plain": [
              "[Document(page_content='Shooting conditions:\\nShutter speed: ¹/₅₀₀ s\\nAperture: f/4\\nFocal length: 600 mm\\nISO sensitivity: ISO 1600NIKKOR Z 600mm f/4 TC VR S\\nA 600 mm lens with a built-in 1.4× teleconverter allows you to quickly change focal lengths and\\ncapture the skin texture of wildlife with incredible realism.\\n8 Things to Bring', metadata={'page': 7, 'source': 'Z9Z8_TG_Wildlife_(En)01.pdf'}),\n",
              " Document(page_content='© Ramesh Karmakar\\nShooting conditions:\\nShutter speed: ¹/₃₂₀₀ s\\nAperture: f/6.3\\nFocal length: 600 mm (equivalent to 900 mm in 35 mm format with DX crop)\\nISO sensitivity: ISO 2000NIKKOR Z 600mm f/6.3 VR S\\nA 600 mm lens, which has been significantly reduced in size and weight by adopting a Phase Fresnel\\n(PF) element, allows you to easily track a wild bird in flight handheld.\\n9 Things to Bring', metadata={'page': 8, 'source': 'Z9Z8_TG_Wildlife_(En)01.pdf'}),\n",
              " Document(page_content='© Natsumi Handa\\nShooting conditions:\\nShutter speed: ¹/₅₀₀ s\\nAperture: f/5.6\\nFocal length: 180 mm\\nISO sensitivity: ISO 1250NIKKOR Z 180-600mm f/5.6-6.3 VR\\nA 180–600 mm zoom lens with an optimized weight balance and zoom mechanism allows you to\\ncapture precious moments without getting close to delicate small animals.\\n13 Things to Bring', metadata={'page': 12, 'source': 'Z9Z8_TG_Wildlife_(En)01.pdf'}),\n",
              " Document(page_content='© Edin Whitehead\\nShooting conditions:\\nShutter speed: ¹/₃₂₀₀ s\\nAperture: f/6.3\\nFocal length: 800 mmNIKKOR Z 800mm f/6.3 VR S\\nAn 800 mm lens, which has been reduced in size and weight by adopting a Phase Fresnel (PF) element,\\nallows you to capture the tender moments of wild creatures as they are from a distance.\\n10 Things to Bring', metadata={'page': 9, 'source': 'Z9Z8_TG_Wildlife_(En)01.pdf'})]"
            ]
          },
          "execution_count": 14,
          "metadata": {},
          "output_type": "execute_result"
        }
      ],
      "source": [
        "retriever.get_relevant_documents(\"What lens options I have above 600mm focal length?\")"
      ]
    },
    {
      "cell_type": "markdown",
      "metadata": {
        "id": "lDaAQmolhJ8p"
      },
      "source": [
        "Now let's create our LCEL chain to build the QA functionality"
      ]
    },
    {
      "cell_type": "code",
      "execution_count": 22,
      "metadata": {
        "id": "Zt5CYB8keg4V"
      },
      "outputs": [],
      "source": [
        "from langchain_core.prompts import PromptTemplate\n",
        "from langchain_groq import ChatGroq\n",
        "from langchain_core.output_parsers import StrOutputParser\n",
        "from langchain_core.runnables import RunnableLambda, RunnablePassthrough,RunnableParallel"
      ]
    },
    {
      "cell_type": "markdown",
      "metadata": {
        "id": "Kc1daSmWhS-A"
      },
      "source": [
        "Define the prompt and prompt template"
      ]
    },
    {
      "cell_type": "code",
      "execution_count": 15,
      "metadata": {
        "id": "wqK-cKCGeBlG"
      },
      "outputs": [],
      "source": [
        "qa_template = \"\"\"\n",
        "{question}\n",
        "You are a helpful assistant from Nkon specialized in answering camera related queries. Use the following pieces of retrieved context to answer the question.\\\n",
        "If you don't know the answer, just say that you don't know.\n",
        "Context:\n",
        "{context}\n",
        "\"\"\""
      ]
    },
    {
      "cell_type": "code",
      "execution_count": 17,
      "metadata": {
        "id": "tjG60ROfeeNZ"
      },
      "outputs": [],
      "source": [
        "QA_CHAIN_PROMPT = PromptTemplate.from_template(qa_template)"
      ]
    },
    {
      "cell_type": "markdown",
      "metadata": {
        "id": "lWaGKakFhWX9"
      },
      "source": [
        "We use the excellent llama3 as our LLM, ChatGroq helps us with super fast inference speed. Langchain makes it easier to integrate Groq."
      ]
    },
    {
      "cell_type": "code",
      "execution_count": 19,
      "metadata": {
        "id": "6OEri9CnemJ4"
      },
      "outputs": [],
      "source": [
        "llm = ChatGroq(temperature=0, model_name=\"llama3-70b-8192\")"
      ]
    },
    {
      "cell_type": "markdown",
      "metadata": {
        "id": "JdHBQAJdhmbm"
      },
      "source": [
        "Below is our chain. Prompt expects a dictionary with question and context (documents that we chunked and embedded). We pass along the question as it is to prompt with help of RunnablePassthrough and for context we invoke the retriever to get relevant documents from our vector store."
      ]
    },
    {
      "cell_type": "code",
      "execution_count": 23,
      "metadata": {
        "id": "l5uGyYUZevGN"
      },
      "outputs": [],
      "source": [
        "chain = RunnableParallel(\n",
        "        {\"question\" : RunnablePassthrough(),\n",
        "        \"context\" : retriever\n",
        "        }\n",
        "        ) |QA_CHAIN_PROMPT| llm | StrOutputParser()"
      ]
    },
    {
      "cell_type": "markdown",
      "metadata": {
        "id": "-LaWPcfxiC1O"
      },
      "source": [
        "We are all set! Let's run the chain"
      ]
    },
    {
      "cell_type": "code",
      "execution_count": 24,
      "metadata": {
        "id": "NSeXyEgofX7f"
      },
      "outputs": [],
      "source": [
        "result = chain.invoke(\"Please suggest few lenses for widlife photography that have atleast 400mm focal length\")"
      ]
    },
    {
      "cell_type": "markdown",
      "metadata": {
        "id": "Rd4cR5v_iJRB"
      },
      "source": [
        "Voila, here we go. Pretty cool isn't it."
      ]
    },
    {
      "cell_type": "code",
      "execution_count": 25,
      "metadata": {
        "colab": {
          "base_uri": "https://localhost:8080/",
          "height": 140
        },
        "id": "UmJtCpsdflgu",
        "outputId": "ced12609-8a56-45ab-e90f-c8beafb2725f"
      },
      "outputs": [
        {
          "data": {
            "application/vnd.google.colaboratory.intrinsic+json": {
              "type": "string"
            },
            "text/plain": [
              "\"Wildlife photography! I'd be happy to help you with some fantastic lens options that have a minimum focal length of 400mm.\\n\\nBased on the provided context, here are a few lenses that fit your requirement:\\n\\n1. **NIKKOR Z 400mm f/4.5 VR S**: A compact and lightweight lens that allows for handheld shooting, perfect for capturing birds in flight or in vast landscapes.\\n2. **NIKKOR Z 400mm f/2.8 TC VR S**: This lens features a built-in 1.4x teleconverter, allowing you to quickly switch between focal lengths to suit your scene. Ideal for capturing vivid images of small wild birds in motion.\\n3. **NIKKOR Z 100-400mm f/4.5-5.6 VR S**: A versatile zoom lens that offers high optical performance, making it perfect for capturing moving animals from a distance. The smooth zooming and animal-detection AF features make it an excellent choice.\\n4. **NIKKOR Z 800mm f/6.3 VR S**: If you need even more reach, this lens is a great option. Its Phase Fresnel (PF) element design reduces the size and weight, making it easier to capture tender moments of wild creatures from a distance.\\n\\nThese lenses are all part of the NIKKOR Z series, designed to work seamlessly with Nikon's Z-series cameras. I hope this helps you find the perfect lens for your wildlife photography adventures!\""
            ]
          },
          "execution_count": 25,
          "metadata": {},
          "output_type": "execute_result"
        }
      ],
      "source": [
        "result"
      ]
    },
    {
      "cell_type": "markdown",
      "metadata": {
        "id": "QMK8OsVJibzf"
      },
      "source": [
        "Let's ask one more question"
      ]
    },
    {
      "cell_type": "code",
      "execution_count": 26,
      "metadata": {
        "id": "hMOBMfvLfnE1"
      },
      "outputs": [],
      "source": [
        "result = chain.invoke(\"Could you give some tips for photographing birds in flight?\")"
      ]
    },
    {
      "cell_type": "markdown",
      "metadata": {
        "id": "KJ1UmB83io8e"
      },
      "source": [
        "That's perfect, bingo!"
      ]
    },
    {
      "cell_type": "code",
      "execution_count": 27,
      "metadata": {
        "colab": {
          "base_uri": "https://localhost:8080/",
          "height": 140
        },
        "id": "-6Wj4g4IihRD",
        "outputId": "83cc14ef-f8cb-4ced-b4f3-e3e67db5ccb6"
      },
      "outputs": [
        {
          "data": {
            "application/vnd.google.colaboratory.intrinsic+json": {
              "type": "string"
            },
            "text/plain": [
              "\"Photographing birds in flight! That's a thrilling challenge. As a helpful assistant from Nikon, I'd be delighted to share some tips to help you capture stunning images of birds in flight:\\n\\n1. **Choose the right gear**: A super-telephoto lens (at least 200mm) is essential for capturing birds in flight. A camera with good autofocus and burst mode capabilities is also crucial.\\n2. **Select the right settings**: Use a fast shutter speed (at least 1/2000th of a second) to freeze the motion of the bird. Set your camera to Continuous High-Speed mode (up to 20 fps) to increase your chances of capturing the perfect shot.\\n3. **Aperture and ISO**: Use the maximum aperture value of your lens or stop down by 1/2 EV to ensure a sufficient depth of field. Set your ISO to Auto, with a maximum sensitivity of 2000.\\n4. **Autofocus mode**: Use [Auto-area AF] or [3D-tracking] mode to help track the bird's movement. You can also assign [3D-tracking] to a Fn button using Custom Setting f2 for quick access.\\n5. **AF subject detection**: Enable [Birds] as your AF subject detection option to help the camera recognize and track birds more effectively.\\n6. **Stable shooting location**: Find a stable location with a good view of the birds' flight path. This will help you track the birds more easily and reduce camera shake.\\n7. **Use a dot sight**: If you're having trouble tracking the bird through the viewfinder, consider using a dot sight to help you stay focused on the subject.\\n8. **Anticipate and follow**: Anticipate the bird's flight path and follow it with your camera, using the autofocus to track the bird's movement.\\n9. **Practice makes perfect**: Photographing birds in flight requires patience, practice, and a good understanding of bird behavior. The more you practice, the better you'll become at anticipating and capturing the perfect shot.\\n\\nBy following these tips, you'll be well on your way to capturing stunning images of birds in flight. Happy shooting!\""
            ]
          },
          "execution_count": 27,
          "metadata": {},
          "output_type": "execute_result"
        }
      ],
      "source": [
        "result"
      ]
    },
    {
      "cell_type": "code",
      "execution_count": null,
      "metadata": {
        "id": "v6BUsXnxiilU"
      },
      "outputs": [],
      "source": []
    }
  ],
  "metadata": {
    "colab": {
      "provenance": []
    },
    "kernelspec": {
      "display_name": "Python 3",
      "name": "python3"
    },
    "language_info": {
      "name": "python"
    }
  },
  "nbformat": 4,
  "nbformat_minor": 0
}
